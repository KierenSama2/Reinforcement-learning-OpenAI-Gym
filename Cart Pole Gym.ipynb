{
 "cells": [
  {
   "cell_type": "code",
   "execution_count": 15,
   "metadata": {},
   "outputs": [
    {
     "name": "stdout",
     "output_type": "stream",
     "text": [
      "Episodes before solve 53\n"
     ]
    },
    {
     "data": {
      "text/plain": [
       "[<matplotlib.lines.Line2D at 0x7fec36a5dc50>]"
      ]
     },
     "execution_count": 15,
     "metadata": {},
     "output_type": "execute_result"
    },
    {
     "data": {
      "image/png": "[encoded data removed]",
      "text/plain": [
       "<Figure size 432x288 with 1 Axes>"
      ]
     },
     "metadata": {
      "needs_background": "light"
     },
     "output_type": "display_data"
    }
   ],
   "source": [
    "import autograd.numpy as np\n",
    "import gym\n",
    "import matplotlib.pyplot as plt\n",
    "from autograd import grad, elementwise_grad\n",
    "import random\n",
    "from IPython import display\n",
    "\n",
    "def approx(weights, state, action):\n",
    "    return np.dot(state, weights)[action]\n",
    "\n",
    "def policy(env, weights, state, epsilon):\n",
    "    actions = [0, 1]\n",
    "    if np.random.rand() < epsilon:\n",
    "        return random.choice(actions)\n",
    "    qs = []\n",
    "    for action in actions:\n",
    "        qs.append(approx(weights, state, action))\n",
    "    return np.argmax(qs)\n",
    "\n",
    "gradientApprox = grad(approx)\n",
    "episodes = 1000\n",
    "discount = 0.95\n",
    "epsilon = 0.1\n",
    "alpha = 0.1\n",
    "\n",
    "env = gym.make('CartPole-v0')\n",
    "epRewards = []\n",
    "w = np.zeros((4,2))\n",
    "for e in range(episodes):\n",
    "    state = env.reset()\n",
    "    rewards = []\n",
    "    while True:\n",
    "        action = policy(env, w, state, epsilon)\n",
    "        q_hat = approx(w, state, action)\n",
    "        q_hat_grad = gradientApprox(w, state, action)\n",
    "        next_state, reward, done, _ = env.step(action)\n",
    "        rewards.append(reward)\n",
    "        if done:\n",
    "            w += alpha*(reward - q_hat) * q_hat_grad\n",
    "            break\n",
    "        else:\n",
    "            next_action = policy(env, w, next_state, epsilon)\n",
    "            q_hat_next = approx(w, next_state, next_action)\n",
    "            w += alpha*(reward - discount*q_hat_next)*q_hat_grad\n",
    "            state = next_state\n",
    "    epRewards.append(np.sum(rewards))\n",
    "    \n",
    "for i, _ in enumerate(epRewards):\n",
    "    if i + 100 >= len(epRewards):\n",
    "        break\n",
    "    else:\n",
    "        mean = np.mean(epRewards[i:i+100])\n",
    "        if mean >= 195:\n",
    "            print(\"Episodes before solve\", i+1)\n",
    "            break\n",
    "\n",
    "plt.plot(epRewards)"
   ]
  },
  {
   "cell_type": "code",
   "execution_count": null,
   "metadata": {},
   "outputs": [],
   "source": []
  }
 ],
 "metadata": {
  "kernelspec": {
   "display_name": "Python (binEnv)",
   "language": "python",
   "name": "binenv"
  },
  "language_info": {
   "codemirror_mode": {
    "name": "ipython",
    "version": 3
   },
   "file_extension": ".py",
   "mimetype": "text/x-python",
   "name": "python",
   "nbconvert_exporter": "python",
   "pygments_lexer": "ipython3",
   "version": "3.6.8"
  }
 },
 "nbformat": 4,
 "nbformat_minor": 2
}
